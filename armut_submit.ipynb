{
 "cells": [
  {
   "cell_type": "code",
   "execution_count": 1,
   "id": "e1b71952",
   "metadata": {
    "_cell_guid": "b1076dfc-b9ad-4769-8c92-a6c4dae69d19",
    "_uuid": "8f2839f25d086af736a60e9eeb907d3b93b6e0e5",
    "execution": {
     "iopub.execute_input": "2022-02-25T21:58:26.562694Z",
     "iopub.status.busy": "2022-02-25T21:58:26.560987Z",
     "iopub.status.idle": "2022-02-25T21:58:29.006142Z",
     "shell.execute_reply": "2022-02-25T21:58:29.005473Z",
     "shell.execute_reply.started": "2022-02-25T19:52:05.152311Z"
    },
    "papermill": {
     "duration": 2.466051,
     "end_time": "2022-02-25T21:58:29.006317",
     "exception": false,
     "start_time": "2022-02-25T21:58:26.540266",
     "status": "completed"
    },
    "tags": []
   },
   "outputs": [
    {
     "data": {
      "text/html": [
       "<style type='text/css'>\n",
       ".datatable table.frame { margin-bottom: 0; }\n",
       ".datatable table.frame thead { border-bottom: none; }\n",
       ".datatable table.frame tr.coltypes td {  color: #FFFFFF;  line-height: 6px;  padding: 0 0.5em;}\n",
       ".datatable .bool    { background: #DDDD99; }\n",
       ".datatable .object  { background: #565656; }\n",
       ".datatable .int     { background: #5D9E5D; }\n",
       ".datatable .float   { background: #4040CC; }\n",
       ".datatable .str     { background: #CC4040; }\n",
       ".datatable .time    { background: #40CC40; }\n",
       ".datatable .row_index {  background: var(--jp-border-color3);  border-right: 1px solid var(--jp-border-color0);  color: var(--jp-ui-font-color3);  font-size: 9px;}\n",
       ".datatable .frame tbody td { text-align: left; }\n",
       ".datatable .frame tr.coltypes .row_index {  background: var(--jp-border-color0);}\n",
       ".datatable th:nth-child(2) { padding-left: 12px; }\n",
       ".datatable .hellipsis {  color: var(--jp-cell-editor-border-color);}\n",
       ".datatable .vellipsis {  background: var(--jp-layout-color0);  color: var(--jp-cell-editor-border-color);}\n",
       ".datatable .na {  color: var(--jp-cell-editor-border-color);  font-size: 80%;}\n",
       ".datatable .sp {  opacity: 0.25;}\n",
       ".datatable .footer { font-size: 9px; }\n",
       ".datatable .frame_dimensions {  background: var(--jp-border-color3);  border-top: 1px solid var(--jp-border-color0);  color: var(--jp-ui-font-color3);  display: inline-block;  opacity: 0.6;  padding: 1px 10px 1px 5px;}\n",
       "</style>\n"
      ],
      "text/plain": [
       "<IPython.core.display.HTML object>"
      ]
     },
     "metadata": {},
     "output_type": "display_data"
    }
   ],
   "source": [
    "import pandas as pd\n",
    "import numpy as np\n",
    "\n",
    "import seaborn as sns\n",
    "\n",
    "import lightgbm as lgb\n",
    "\n",
    "import catboost\n",
    "from catboost import CatBoostRegressor, CatBoostClassifier\n",
    "from catboost import Pool\n",
    "\n",
    "import sklearn\n",
    "from sklearn.model_selection import StratifiedKFold, ShuffleSplit, train_test_split, KFold, TimeSeriesSplit\n",
    "from sklearn.preprocessing import StandardScaler, LabelEncoder\n",
    "from sklearn.metrics import roc_auc_score, accuracy_score, f1_score, roc_curve\n",
    "\n",
    "import datetime\n",
    "from datetime import datetime, timedelta, timezone\n",
    "import holidays\n",
    "import matplotlib.pyplot as plt\n",
    "from tqdm import tqdm\n",
    "\n",
    "from statistics import mean\n",
    "np.random.seed(42)"
   ]
  },
  {
   "cell_type": "code",
   "execution_count": 2,
   "id": "6a1d7e24",
   "metadata": {
    "execution": {
     "iopub.execute_input": "2022-02-25T21:58:29.042994Z",
     "iopub.status.busy": "2022-02-25T21:58:29.042069Z",
     "iopub.status.idle": "2022-02-25T21:58:30.959597Z",
     "shell.execute_reply": "2022-02-25T21:58:30.958908Z",
     "shell.execute_reply.started": "2022-02-25T19:52:07.543077Z"
    },
    "papermill": {
     "duration": 1.936292,
     "end_time": "2022-02-25T21:58:30.959744",
     "exception": false,
     "start_time": "2022-02-25T21:58:29.023452",
     "status": "completed"
    },
    "tags": []
   },
   "outputs": [],
   "source": [
    "# Read cvs\n",
    "job_details = pd.read_csv('../input/armutdac2022/JOBDETAILS.csv')\n",
    "job_questions = pd.read_csv('../input/armutdac2022/JOBQUESTIONS.csv')\n",
    "pro_loc = pd.read_csv('../input/armutdac2022/PROLOC.csv')\n",
    "test = pd.read_csv('../input/armutdac2022/TEST.csv')\n",
    "train = pd.read_csv('../input/armutdac2022/TRAIN.csv')\n",
    "sample = pd.read_csv('../input/armutdac2022/sample sub.csv')\n",
    "\n",
    "# Concatenate all data for easier feature engineering\n",
    "all_data = pd.concat((train, test), axis=0)\n",
    "all_data = all_data.merge(job_details.rename(columns={'OUTER_LOC': 'JOB_OUTER_LOC', 'INNER_LOC': 'JOB_INNER_LOC'}), on='JOBID', how='left')\n",
    "all_data = all_data.merge(pro_loc.rename(columns={'OUTER_LOC': 'PRO_OUTER_LOC', 'INNER_LOC': 'PRO_INNER_LOC'}), on='PROID', how='left')"
   ]
  },
  {
   "cell_type": "code",
   "execution_count": 3,
   "id": "06f8aa5b",
   "metadata": {
    "execution": {
     "iopub.execute_input": "2022-02-25T21:58:30.998615Z",
     "iopub.status.busy": "2022-02-25T21:58:30.994623Z",
     "iopub.status.idle": "2022-02-25T21:58:32.040389Z",
     "shell.execute_reply": "2022-02-25T21:58:32.041253Z",
     "shell.execute_reply.started": "2022-02-25T19:52:10.913860Z"
    },
    "papermill": {
     "duration": 1.065582,
     "end_time": "2022-02-25T21:58:32.041446",
     "exception": false,
     "start_time": "2022-02-25T21:58:30.975864",
     "status": "completed"
    },
    "tags": []
   },
   "outputs": [],
   "source": [
    "# Remove time zones as they are all the same & sort the data by OPP_CREATEDATE column\n",
    "def remove_time_zone(x):\n",
    "    return x[:-6]\n",
    "\n",
    "all_data['OPP_CREATEDATE'] = all_data['OPP_CREATEDATE'].apply(remove_time_zone)\n",
    "all_data['JOB_CREATEDATE'] = all_data['JOB_CREATEDATE'].apply(remove_time_zone)\n",
    "\n",
    "all_data['OPP_CREATEDATE'] = pd.to_datetime(all_data['OPP_CREATEDATE'])\n",
    "all_data['JOB_CREATEDATE'] = pd.to_datetime(all_data['JOB_CREATEDATE'])\n",
    "\n",
    "all_data.sort_values('OPP_CREATEDATE', inplace=True)"
   ]
  },
  {
   "cell_type": "code",
   "execution_count": 4,
   "id": "7e548579",
   "metadata": {
    "execution": {
     "iopub.execute_input": "2022-02-25T21:58:32.080291Z",
     "iopub.status.busy": "2022-02-25T21:58:32.079678Z",
     "iopub.status.idle": "2022-02-25T21:58:32.238317Z",
     "shell.execute_reply": "2022-02-25T21:58:32.238828Z",
     "shell.execute_reply.started": "2022-02-25T19:52:12.342860Z"
    },
    "papermill": {
     "duration": 0.181271,
     "end_time": "2022-02-25T21:58:32.239018",
     "exception": false,
     "start_time": "2022-02-25T21:58:32.057747",
     "status": "completed"
    },
    "tags": []
   },
   "outputs": [],
   "source": [
    "# Create columns for each question in job_questions\n",
    "dummy = pd.get_dummies(job_questions['QUESTIONID']).multiply(job_questions['ANSWERID'], axis=\"index\")\n",
    "questions_dict = {}\n",
    "for key in dummy.columns:\n",
    "    questions_dict[key] = 'Q_' + str(key)\n",
    "dummy.rename(columns=questions_dict, inplace=True)\n",
    "job_questions = pd.concat((job_questions, dummy), axis=1).drop(columns=['QUESTIONID', 'ANSWERID']).groupby('JOBID').max().reset_index()"
   ]
  },
  {
   "cell_type": "code",
   "execution_count": 5,
   "id": "c6970783",
   "metadata": {
    "execution": {
     "iopub.execute_input": "2022-02-25T21:58:32.277293Z",
     "iopub.status.busy": "2022-02-25T21:58:32.276576Z",
     "iopub.status.idle": "2022-02-25T21:58:32.470151Z",
     "shell.execute_reply": "2022-02-25T21:58:32.469449Z",
     "shell.execute_reply.started": "2022-02-25T19:52:12.510768Z"
    },
    "papermill": {
     "duration": 0.215091,
     "end_time": "2022-02-25T21:58:32.470315",
     "exception": false,
     "start_time": "2022-02-25T21:58:32.255224",
     "status": "completed"
    },
    "tags": []
   },
   "outputs": [],
   "source": [
    "all_data = all_data.merge(job_questions, on='JOBID', how='left')"
   ]
  },
  {
   "cell_type": "code",
   "execution_count": 6,
   "id": "7d65a6b0",
   "metadata": {
    "execution": {
     "iopub.execute_input": "2022-02-25T21:58:32.510417Z",
     "iopub.status.busy": "2022-02-25T21:58:32.509811Z",
     "iopub.status.idle": "2022-02-25T21:58:33.096089Z",
     "shell.execute_reply": "2022-02-25T21:58:33.095462Z",
     "shell.execute_reply.started": "2022-02-25T19:52:12.713731Z"
    },
    "papermill": {
     "duration": 0.609139,
     "end_time": "2022-02-25T21:58:33.096223",
     "exception": false,
     "start_time": "2022-02-25T21:58:32.487084",
     "status": "completed"
    },
    "tags": []
   },
   "outputs": [],
   "source": [
    "# Get time based features from OPP_CREATEDATE & JOB_CREATEDATE\n",
    "all_data['OPP_MONTH'] = all_data['OPP_CREATEDATE'].dt.month\n",
    "all_data['JOB_MONTH'] = all_data['JOB_CREATEDATE'].dt.month\n",
    "\n",
    "all_data['OPP_DAY'] = all_data['OPP_CREATEDATE'].dt.day\n",
    "all_data['JOB_DAY'] = all_data['JOB_CREATEDATE'].dt.day\n",
    "\n",
    "all_data['OPP_WEEKDAY'] = all_data['OPP_CREATEDATE'].dt.weekday\n",
    "all_data['JOB_WEEKDAY'] = all_data['JOB_CREATEDATE'].dt.weekday\n",
    "\n",
    "all_data['OPP_HOUR'] = all_data['OPP_CREATEDATE'].dt.hour\n",
    "all_data['JOB_HOUR'] = all_data['JOB_CREATEDATE'].dt.hour\n",
    "\n",
    "all_data['TIME_DIFF'] = (all_data['OPP_CREATEDATE'] - all_data['JOB_CREATEDATE']).dt.total_seconds()"
   ]
  },
  {
   "cell_type": "code",
   "execution_count": 7,
   "id": "0092e822",
   "metadata": {
    "execution": {
     "iopub.execute_input": "2022-02-25T21:58:33.193907Z",
     "iopub.status.busy": "2022-02-25T21:58:33.134024Z",
     "iopub.status.idle": "2022-02-25T21:58:33.379481Z",
     "shell.execute_reply": "2022-02-25T21:58:33.378857Z",
     "shell.execute_reply.started": "2022-02-25T19:52:13.310025Z"
    },
    "papermill": {
     "duration": 0.266902,
     "end_time": "2022-02-25T21:58:33.379616",
     "exception": false,
     "start_time": "2022-02-25T21:58:33.112714",
     "status": "completed"
    },
    "tags": []
   },
   "outputs": [],
   "source": [
    "all_data['BOTH_OUTER_LOC'] = all_data['JOB_OUTER_LOC'] + '-' +  all_data['PRO_OUTER_LOC']"
   ]
  },
  {
   "cell_type": "code",
   "execution_count": 8,
   "id": "41ace1af",
   "metadata": {
    "execution": {
     "iopub.execute_input": "2022-02-25T21:58:33.417997Z",
     "iopub.status.busy": "2022-02-25T21:58:33.417374Z",
     "iopub.status.idle": "2022-02-25T21:58:33.548508Z",
     "shell.execute_reply": "2022-02-25T21:58:33.547891Z",
     "shell.execute_reply.started": "2022-02-25T19:52:13.709683Z"
    },
    "papermill": {
     "duration": 0.152807,
     "end_time": "2022-02-25T21:58:33.548641",
     "exception": false,
     "start_time": "2022-02-25T21:58:33.395834",
     "status": "completed"
    },
    "tags": []
   },
   "outputs": [],
   "source": [
    "all_data['IS_SAME_HOUR'] = (all_data['JOB_HOUR'] == all_data['OPP_HOUR']).astype(int)\n",
    "all_data['IS_SAME_DAY'] = (all_data['JOB_DAY'] == all_data['OPP_DAY']).astype(int)\n",
    "all_data['IS_SAME_OUTER_LOC'] = (all_data['JOB_OUTER_LOC'] == all_data['PRO_OUTER_LOC']).astype(int)\n",
    "all_data['IS_SAME_INNER_LOC'] = (all_data['JOB_INNER_LOC'] == all_data['PRO_INNER_LOC']).astype(int)"
   ]
  },
  {
   "cell_type": "code",
   "execution_count": 9,
   "id": "5b8c21b0",
   "metadata": {
    "execution": {
     "iopub.execute_input": "2022-02-25T21:58:33.587523Z",
     "iopub.status.busy": "2022-02-25T21:58:33.586888Z",
     "iopub.status.idle": "2022-02-25T21:58:56.205646Z",
     "shell.execute_reply": "2022-02-25T21:58:56.204873Z",
     "shell.execute_reply.started": "2022-02-25T19:52:14.061798Z"
    },
    "papermill": {
     "duration": 22.641038,
     "end_time": "2022-02-25T21:58:56.205806",
     "exception": false,
     "start_time": "2022-02-25T21:58:33.564768",
     "status": "completed"
    },
    "tags": []
   },
   "outputs": [
    {
     "name": "stderr",
     "output_type": "stream",
     "text": [
      "/opt/conda/lib/python3.7/site-packages/ipykernel_launcher.py:3: FutureWarning: Comparison of Timestamp with datetime.date is deprecated in order to match the standard library behavior.  In a future version these will be considered non-comparable.Use 'ts == pd.Timestamp(date)' or 'ts.date() == date' instead.\n",
      "  This is separate from the ipykernel package so we can avoid doing imports until\n",
      "/opt/conda/lib/python3.7/site-packages/ipykernel_launcher.py:4: FutureWarning: Comparison of Timestamp with datetime.date is deprecated in order to match the standard library behavior.  In a future version these will be considered non-comparable.Use 'ts == pd.Timestamp(date)' or 'ts.date() == date' instead.\n",
      "  after removing the cwd from sys.path.\n"
     ]
    }
   ],
   "source": [
    "# Is it holiday?\n",
    "holiday_list = list(holidays.Turkey(years=2021).keys())\n",
    "all_data['OPP_IS_HOLIDAY'] = (all_data['OPP_CREATEDATE'].apply(lambda x: x in holiday_list)).astype(int)\n",
    "all_data['JOB_IS_HOLIDAY'] = (all_data['JOB_CREATEDATE'].apply(lambda x: x in holiday_list)).astype(int)\n",
    "\n",
    "# Is it weekend?\n",
    "all_data['OPP_IS_WEEKEND'] = (all_data['OPP_WEEKDAY'] > 4).astype(int)\n",
    "all_data['JOB_IS_WEEKEND'] = (all_data['JOB_WEEKDAY'] > 4).astype(int)"
   ]
  },
  {
   "cell_type": "code",
   "execution_count": 10,
   "id": "9f365936",
   "metadata": {
    "execution": {
     "iopub.execute_input": "2022-02-25T21:58:56.243201Z",
     "iopub.status.busy": "2022-02-25T21:58:56.242479Z",
     "iopub.status.idle": "2022-02-25T21:58:57.735162Z",
     "shell.execute_reply": "2022-02-25T21:58:57.735672Z",
     "shell.execute_reply.started": "2022-02-25T19:52:49.224199Z"
    },
    "papermill": {
     "duration": 1.512986,
     "end_time": "2022-02-25T21:58:57.735867",
     "exception": false,
     "start_time": "2022-02-25T21:58:56.222881",
     "status": "completed"
    },
    "tags": []
   },
   "outputs": [],
   "source": [
    "def get_num(x):\n",
    "    return x[5:]\n",
    "\n",
    "def get_city(x):\n",
    "    return x[5:-2]\n",
    "\n",
    "all_data['JOB_OUTER_LOC_NUM'] = all_data['JOB_OUTER_LOC'].apply(get_num).astype(int)\n",
    "all_data['JOB_INNER_LOC_NUM'] = all_data['JOB_INNER_LOC'].apply(get_num).astype(int)\n",
    "all_data['PRO_OUTER_LOC_NUM'] = all_data['PRO_OUTER_LOC'].fillna('loc1_-999').apply(get_num).astype(int)\n",
    "all_data['PRO_INNER_LOC_NUM'] = all_data['PRO_INNER_LOC'].fillna('loc2_-999').apply(get_num).astype(int)\n",
    "\n",
    "all_data['OUTER_LOC_NUM_ABS_DIFF'] = np.abs(all_data['JOB_OUTER_LOC_NUM'] - all_data['PRO_OUTER_LOC_NUM'])\n",
    "all_data['OUTER_LOC_NUM_DIFF'] = all_data['JOB_OUTER_LOC_NUM'] - all_data['PRO_OUTER_LOC_NUM']\n",
    "\n",
    "all_data['INNER_LOC_NUM_ABS_DIFF'] = np.abs(all_data['JOB_INNER_LOC_NUM'] - all_data['PRO_INNER_LOC_NUM'])\n",
    "all_data['INNER_LOC_NUM_DIFF'] = all_data['JOB_INNER_LOC_NUM'] - all_data['PRO_INNER_LOC_NUM']\n",
    "\n",
    "all_data['JOB_OUTER_LOC_CT'] = all_data['JOB_OUTER_LOC'].apply(get_city).astype(int)\n",
    "all_data['PRO_OUTER_LOC_CT'] = all_data['PRO_OUTER_LOC'].fillna('loc1_-999').apply(get_city).astype(int)\n",
    "\n",
    "all_data['JOB_OUTER_LOC_CT_IS_SAME'] = (all_data['PRO_OUTER_LOC_CT'] == all_data['JOB_OUTER_LOC_CT']).astype(int)"
   ]
  },
  {
   "cell_type": "code",
   "execution_count": 11,
   "id": "985e2efb",
   "metadata": {
    "execution": {
     "iopub.execute_input": "2022-02-25T21:58:57.775206Z",
     "iopub.status.busy": "2022-02-25T21:58:57.774413Z",
     "iopub.status.idle": "2022-02-25T21:58:57.783871Z",
     "shell.execute_reply": "2022-02-25T21:58:57.784408Z",
     "shell.execute_reply.started": "2022-02-25T19:52:51.563831Z"
    },
    "papermill": {
     "duration": 0.031038,
     "end_time": "2022-02-25T21:58:57.784633",
     "exception": false,
     "start_time": "2022-02-25T21:58:57.753595",
     "status": "completed"
    },
    "tags": []
   },
   "outputs": [],
   "source": [
    "def get_target_based_features(all_data, cols=['JOBID', 'PROID', 'SERVICEID', 'JOB_OUTER_LOC', 'PRO_OUTER_LOC'\n",
    "                                              ,'BOTH_OUTER_LOC'\n",
    "                                             ]):\n",
    "    for col in tqdm(cols):\n",
    "        #print(col)\n",
    "        all_data[col+'_CUMCOUNT'] = all_data.groupby(col).cumcount()\n",
    "        \n",
    "        if  col != 'JOBID':\n",
    "            all_data[col+'_KNOWN_CUMCOUNT'] = all_data[col+'_CUMCOUNT']\n",
    "            ind = all_data[all_data['ISQUOTED'].isna()].index[0]\n",
    "            all_data.loc[ind:, col+'_KNOWN_CUMCOUNT'] = np.nan\n",
    "            all_data.loc[ind:, col+'_KNOWN_CUMCOUNT'] = all_data.groupby(col).ffill().loc[ind:,col+'_KNOWN_CUMCOUNT'] + 1\n",
    "    \n",
    "            all_data[col+'_QUOTED_CUMSUM'] = all_data.fillna(0).groupby([col]).cumsum()['ISQUOTED'] - all_data['ISQUOTED'].fillna(0)\n",
    "            all_data[col+'_NOTQUOTED_CUMSUM'] = all_data[col+'_CUMCOUNT'] - all_data[col+'_QUOTED_CUMSUM']\n",
    "            all_data[col+'_QUOTED_PER'] = all_data[col+'_QUOTED_CUMSUM'] / all_data[col+'_KNOWN_CUMCOUNT']\n",
    "            \n",
    "            all_data[col+'_LAST_ISQUOTED'] = all_data.groupby(col).shift()['ISQUOTED']\n",
    "            all_data[col+'_LAST_ISQUOTED'] = all_data.groupby(col)[col+'_LAST_ISQUOTED'].ffill()\n",
    "            \n",
    "        all_data[col+'_TIME_SINCE_LAST_OPP'] = all_data.groupby(col)['OPP_CREATEDATE'].diff().dt.total_seconds()\n",
    "        all_data[col+'_TIME_SINCE_FIRST_OPP'] = (all_data['OPP_CREATEDATE'] - all_data.groupby(col)['OPP_CREATEDATE'].transform('first')).dt.total_seconds()\n",
    "        all_data[col+'_TIME_SINCE_LAST_JOB'] = all_data.groupby(col)['JOB_CREATEDATE'].diff().dt.total_seconds()\n",
    "        all_data[col+'_TIME_SINCE_FIRST_JOB'] = (all_data['JOB_CREATEDATE'] - all_data.groupby(col)['JOB_CREATEDATE'].transform('first')).dt.total_seconds()\n",
    "    \n",
    "    return all_data"
   ]
  },
  {
   "cell_type": "code",
   "execution_count": 12,
   "id": "ce2b7873",
   "metadata": {
    "execution": {
     "iopub.execute_input": "2022-02-25T21:58:57.826042Z",
     "iopub.status.busy": "2022-02-25T21:58:57.825279Z",
     "iopub.status.idle": "2022-02-25T21:58:57.830641Z",
     "shell.execute_reply": "2022-02-25T21:58:57.831163Z",
     "shell.execute_reply.started": "2022-02-25T19:52:51.579883Z"
    },
    "papermill": {
     "duration": 0.028635,
     "end_time": "2022-02-25T21:58:57.831331",
     "exception": false,
     "start_time": "2022-02-25T21:58:57.802696",
     "status": "completed"
    },
    "tags": []
   },
   "outputs": [],
   "source": [
    "def get_last_job(all_data):\n",
    "    \n",
    "    all_data['LAST_JOB_OUTER_LOC_QUOTED_BY_PROID'] = np.nan\n",
    "    all_data.loc[all_data[all_data['ISQUOTED'] == 1].index, 'LAST_JOB_OUTER_LOC_QUOTED_BY_PROID'] = all_data[all_data['ISQUOTED'] == 1]['JOB_OUTER_LOC_NUM']\n",
    "    all_data['LAST_JOB_OUTER_LOC_QUOTED_BY_PROID'] = all_data.groupby('PROID').ffill()['LAST_JOB_OUTER_LOC_QUOTED_BY_PROID']\n",
    "    all_data.loc[all_data[all_data['ISQUOTED'] == 1].index, 'LAST_JOB_OUTER_LOC_QUOTED_BY_PROID'] = np.nan\n",
    "    all_data['LAST_JOB_OUTER_LOC_QUOTED_BY_PROID'] = all_data.groupby('PROID').ffill()['LAST_JOB_OUTER_LOC_QUOTED_BY_PROID']\n",
    "    #all_data['LAST_JOB_OUTER_LOC_QUOTED_BY_PROID'] = all_data['LAST_JOB_OUTER_LOC_QUOTED_BY_PROID'].fillna(-99)\n",
    "    #le = LabelEncoder()\n",
    "    #all_data['LAST_JOB_OUTER_LOC_QUOTED_BY_PROID'] = le.fit_transform(all_data['LAST_JOB_OUTER_LOC_QUOTED_BY_PROID'].astype(str))\n",
    "\n",
    "    return all_data"
   ]
  },
  {
   "cell_type": "code",
   "execution_count": 13,
   "id": "26cbbf36",
   "metadata": {
    "execution": {
     "iopub.execute_input": "2022-02-25T21:58:57.872512Z",
     "iopub.status.busy": "2022-02-25T21:58:57.868041Z",
     "iopub.status.idle": "2022-02-25T21:58:58.452948Z",
     "shell.execute_reply": "2022-02-25T21:58:58.452228Z",
     "shell.execute_reply.started": "2022-02-25T19:52:51.601575Z"
    },
    "papermill": {
     "duration": 0.604513,
     "end_time": "2022-02-25T21:58:58.453087",
     "exception": false,
     "start_time": "2022-02-25T21:58:57.848574",
     "status": "completed"
    },
    "tags": []
   },
   "outputs": [],
   "source": [
    "cat_cols = ['PROID', 'SERVICEID', 'JOB_OUTER_LOC', 'JOB_INNER_LOC', 'PRO_OUTER_LOC',\n",
    "            'PRO_INNER_LOC', 'BOTH_OUTER_LOC'\n",
    "            #, 'PROID-JOB_OUTER_LOC'\n",
    "           ]\n",
    "for col in all_data.columns:\n",
    "    if col[:2] == 'Q_': \n",
    "        cat_cols.append(col)\n",
    "to_drop_cols = ['JOBID', \n",
    "                'OPP_CREATEDATE', \n",
    "                'JOB_CREATEDATE', 'ISQUOTED']\n",
    "\n",
    "for col in cat_cols:\n",
    "    #print(col)\n",
    "    if all_data[col].dtype == int:\n",
    "        all_data[col].fillna(-99, inplace=True)\n",
    "    elif all_data[col].dtype == float:\n",
    "        all_data[col] = all_data[col].fillna(-99).astype(int)\n",
    "    else:\n",
    "        all_data[col].fillna('nan', inplace=True)"
   ]
  },
  {
   "cell_type": "code",
   "execution_count": 14,
   "id": "c095cc0e",
   "metadata": {
    "execution": {
     "iopub.execute_input": "2022-02-25T21:58:58.494991Z",
     "iopub.status.busy": "2022-02-25T21:58:58.494347Z",
     "iopub.status.idle": "2022-02-25T21:58:58.496046Z",
     "shell.execute_reply": "2022-02-25T21:58:58.496577Z",
     "shell.execute_reply.started": "2022-02-25T19:52:52.406258Z"
    },
    "papermill": {
     "duration": 0.026047,
     "end_time": "2022-02-25T21:58:58.496750",
     "exception": false,
     "start_time": "2022-02-25T21:58:58.470703",
     "status": "completed"
    },
    "tags": []
   },
   "outputs": [],
   "source": [
    "def get_best_threshold(y, preds):\n",
    "    best_score = 0.0\n",
    "    best_thres = 0.0\n",
    "    for i in range(10, 30, 1):\n",
    "        thres = i/100\n",
    "        score = f1_score(y, (preds > thres).astype(int))\n",
    "        #print(best_score)\n",
    "        if score > best_score:\n",
    "            best_thres = thres\n",
    "            best_score = score\n",
    "    print(best_thres)\n",
    "    print(best_score)\n",
    "    return best_thres"
   ]
  },
  {
   "cell_type": "code",
   "execution_count": 15,
   "id": "27807750",
   "metadata": {
    "execution": {
     "iopub.execute_input": "2022-02-25T21:58:58.534193Z",
     "iopub.status.busy": "2022-02-25T21:58:58.533604Z",
     "iopub.status.idle": "2022-02-25T22:01:40.697958Z",
     "shell.execute_reply": "2022-02-25T22:01:40.697333Z",
     "shell.execute_reply.started": "2022-02-25T19:52:52.413535Z"
    },
    "papermill": {
     "duration": 162.184557,
     "end_time": "2022-02-25T22:01:40.698116",
     "exception": false,
     "start_time": "2022-02-25T21:58:58.513559",
     "status": "completed"
    },
    "tags": []
   },
   "outputs": [
    {
     "name": "stderr",
     "output_type": "stream",
     "text": [
      "100%|██████████| 6/6 [02:22<00:00, 23.68s/it]\n"
     ]
    }
   ],
   "source": [
    "all_data = get_target_based_features(all_data)\n",
    "all_data = get_last_job(all_data)\n",
    "#datetimes = [datetime(2021, 9, 16), datetime(2021, 9, 23), datetime(2021, 9, 30), datetime(2021, 10, 6)]"
   ]
  },
  {
   "cell_type": "code",
   "execution_count": 16,
   "id": "53b631fb",
   "metadata": {
    "execution": {
     "iopub.execute_input": "2022-02-25T22:01:40.745459Z",
     "iopub.status.busy": "2022-02-25T22:01:40.744677Z",
     "iopub.status.idle": "2022-02-25T22:01:40.747880Z",
     "shell.execute_reply": "2022-02-25T22:01:40.748296Z",
     "shell.execute_reply.started": "2022-02-25T19:56:09.778154Z"
    },
    "papermill": {
     "duration": 0.030453,
     "end_time": "2022-02-25T22:01:40.748490",
     "exception": false,
     "start_time": "2022-02-25T22:01:40.718037",
     "status": "completed"
    },
    "tags": []
   },
   "outputs": [
    {
     "data": {
      "text/plain": [
       "0            NaN\n",
       "1            NaN\n",
       "2            NaN\n",
       "3            NaN\n",
       "4            NaN\n",
       "           ...  \n",
       "733226       NaN\n",
       "733227       NaN\n",
       "733228       NaN\n",
       "733229    2193.0\n",
       "733230     558.0\n",
       "Name: LAST_JOB_OUTER_LOC_QUOTED_BY_PROID, Length: 733231, dtype: float64"
      ]
     },
     "execution_count": 16,
     "metadata": {},
     "output_type": "execute_result"
    }
   ],
   "source": [
    "all_data['LAST_JOB_OUTER_LOC_QUOTED_BY_PROID']"
   ]
  },
  {
   "cell_type": "code",
   "execution_count": 17,
   "id": "5634320b",
   "metadata": {
    "execution": {
     "iopub.execute_input": "2022-02-25T22:01:40.791791Z",
     "iopub.status.busy": "2022-02-25T22:01:40.790920Z",
     "iopub.status.idle": "2022-02-25T22:01:40.795116Z",
     "shell.execute_reply": "2022-02-25T22:01:40.794507Z",
     "shell.execute_reply.started": "2022-02-25T20:43:43.297216Z"
    },
    "papermill": {
     "duration": 0.027323,
     "end_time": "2022-02-25T22:01:40.795250",
     "exception": false,
     "start_time": "2022-02-25T22:01:40.767927",
     "status": "completed"
    },
    "tags": []
   },
   "outputs": [],
   "source": [
    "#all_weights = pd.DataFrame(all_data.index)\n",
    "#all_weights[0] = np.log10(all_weights[0] + 1000)"
   ]
  },
  {
   "cell_type": "code",
   "execution_count": 18,
   "id": "00a228c4",
   "metadata": {
    "execution": {
     "iopub.execute_input": "2022-02-25T22:01:40.845279Z",
     "iopub.status.busy": "2022-02-25T22:01:40.844197Z",
     "iopub.status.idle": "2022-02-25T23:14:10.385992Z",
     "shell.execute_reply": "2022-02-25T23:14:10.387010Z"
    },
    "papermill": {
     "duration": 4349.573587,
     "end_time": "2022-02-25T23:14:10.388279",
     "exception": false,
     "start_time": "2022-02-25T22:01:40.814692",
     "status": "completed"
    },
    "tags": []
   },
   "outputs": [
    {
     "name": "stdout",
     "output_type": "stream",
     "text": [
      "0:\ttest: 0.7104636\tbest: 0.7104636 (0)\ttotal: 1.04s\tremaining: 17m 21s\n",
      "50:\ttest: 0.8683246\tbest: 0.8683246 (50)\ttotal: 42.9s\tremaining: 13m 17s\n",
      "100:\ttest: 0.8810984\tbest: 0.8810984 (100)\ttotal: 1m 26s\tremaining: 12m 51s\n",
      "150:\ttest: 0.8843507\tbest: 0.8843507 (150)\ttotal: 2m 9s\tremaining: 12m 10s\n",
      "200:\ttest: 0.8859807\tbest: 0.8859807 (200)\ttotal: 2m 53s\tremaining: 11m 28s\n",
      "250:\ttest: 0.8872716\tbest: 0.8872716 (250)\ttotal: 3m 36s\tremaining: 10m 45s\n",
      "300:\ttest: 0.8885150\tbest: 0.8885150 (300)\ttotal: 4m 20s\tremaining: 10m 4s\n",
      "350:\ttest: 0.8889640\tbest: 0.8889904 (347)\ttotal: 5m 3s\tremaining: 9m 21s\n",
      "400:\ttest: 0.8893386\tbest: 0.8893386 (400)\ttotal: 5m 45s\tremaining: 8m 36s\n",
      "450:\ttest: 0.8894561\tbest: 0.8894883 (442)\ttotal: 6m 27s\tremaining: 7m 51s\n",
      "500:\ttest: 0.8895887\tbest: 0.8896903 (473)\ttotal: 7m 11s\tremaining: 7m 9s\n",
      "550:\ttest: 0.8896598\tbest: 0.8898069 (508)\ttotal: 7m 54s\tremaining: 6m 26s\n",
      "600:\ttest: 0.8880181\tbest: 0.8900012 (570)\ttotal: 8m 36s\tremaining: 5m 42s\n",
      "650:\ttest: 0.8880634\tbest: 0.8900012 (570)\ttotal: 9m 18s\tremaining: 4m 59s\n",
      "700:\ttest: 0.8868705\tbest: 0.8900012 (570)\ttotal: 10m 2s\tremaining: 4m 16s\n",
      "750:\ttest: 0.8868690\tbest: 0.8900012 (570)\ttotal: 10m 45s\tremaining: 3m 34s\n",
      "800:\ttest: 0.8867768\tbest: 0.8900012 (570)\ttotal: 11m 29s\tremaining: 2m 51s\n",
      "850:\ttest: 0.8866343\tbest: 0.8900012 (570)\ttotal: 12m 12s\tremaining: 2m 8s\n",
      "900:\ttest: 0.8866163\tbest: 0.8900012 (570)\ttotal: 12m 55s\tremaining: 1m 25s\n",
      "950:\ttest: 0.8867970\tbest: 0.8900012 (570)\ttotal: 13m 39s\tremaining: 42.2s\n",
      "999:\ttest: 0.8867430\tbest: 0.8900012 (570)\ttotal: 14m 22s\tremaining: 0us\n",
      "\n",
      "bestTest = 0.8900012162\n",
      "bestIteration = 570\n",
      "\n",
      "Shrink model to first 571 iterations.\n",
      "0.12\n",
      "0.4409701681737514\n",
      "0.12\n",
      "0.4409701681737514\n",
      "0:\ttest: 0.8140888\tbest: 0.8140888 (0)\ttotal: 896ms\tremaining: 14m 54s\n",
      "50:\ttest: 0.8682808\tbest: 0.8682808 (50)\ttotal: 44.9s\tremaining: 13m 54s\n",
      "100:\ttest: 0.8701729\tbest: 0.8739808 (70)\ttotal: 1m 30s\tremaining: 13m 22s\n",
      "150:\ttest: 0.8626105\tbest: 0.8739808 (70)\ttotal: 2m 14s\tremaining: 12m 33s\n",
      "200:\ttest: 0.8649648\tbest: 0.8739808 (70)\ttotal: 2m 58s\tremaining: 11m 51s\n",
      "250:\ttest: 0.8665474\tbest: 0.8739808 (70)\ttotal: 3m 42s\tremaining: 11m 3s\n",
      "300:\ttest: 0.8673783\tbest: 0.8739808 (70)\ttotal: 4m 25s\tremaining: 10m 15s\n",
      "350:\ttest: 0.8673534\tbest: 0.8739808 (70)\ttotal: 5m 8s\tremaining: 9m 30s\n",
      "400:\ttest: 0.8680693\tbest: 0.8739808 (70)\ttotal: 5m 52s\tremaining: 8m 46s\n",
      "450:\ttest: 0.8686860\tbest: 0.8739808 (70)\ttotal: 6m 36s\tremaining: 8m 2s\n",
      "500:\ttest: 0.8566475\tbest: 0.8739808 (70)\ttotal: 7m 18s\tremaining: 7m 16s\n",
      "550:\ttest: 0.8573403\tbest: 0.8739808 (70)\ttotal: 8m 1s\tremaining: 6m 32s\n",
      "600:\ttest: 0.8580451\tbest: 0.8739808 (70)\ttotal: 8m 44s\tremaining: 5m 48s\n",
      "650:\ttest: 0.8588387\tbest: 0.8739808 (70)\ttotal: 9m 28s\tremaining: 5m 4s\n",
      "700:\ttest: 0.8592055\tbest: 0.8739808 (70)\ttotal: 10m 10s\tremaining: 4m 20s\n",
      "750:\ttest: 0.8468552\tbest: 0.8739808 (70)\ttotal: 10m 53s\tremaining: 3m 36s\n",
      "800:\ttest: 0.8468813\tbest: 0.8739808 (70)\ttotal: 11m 36s\tremaining: 2m 52s\n",
      "850:\ttest: 0.8337184\tbest: 0.8739808 (70)\ttotal: 12m 18s\tremaining: 2m 9s\n",
      "900:\ttest: 0.8341931\tbest: 0.8739808 (70)\ttotal: 13m 2s\tremaining: 1m 25s\n",
      "950:\ttest: 0.8343632\tbest: 0.8739808 (70)\ttotal: 13m 45s\tremaining: 42.5s\n",
      "999:\ttest: 0.8347218\tbest: 0.8739808 (70)\ttotal: 14m 26s\tremaining: 0us\n",
      "\n",
      "bestTest = 0.8739808244\n",
      "bestIteration = 70\n",
      "\n",
      "Shrink model to first 71 iterations.\n",
      "0.29\n",
      "0.36483669214732456\n",
      "0.29\n",
      "0.36483669214732456\n",
      "0:\ttest: 0.7962242\tbest: 0.7962242 (0)\ttotal: 866ms\tremaining: 14m 25s\n",
      "50:\ttest: 0.8839109\tbest: 0.8839109 (50)\ttotal: 43.4s\tremaining: 13m 26s\n",
      "100:\ttest: 0.8260802\tbest: 0.8839109 (50)\ttotal: 1m 27s\tremaining: 12m 57s\n",
      "150:\ttest: 0.8103696\tbest: 0.8839109 (50)\ttotal: 2m 10s\tremaining: 12m 15s\n",
      "200:\ttest: 0.7715685\tbest: 0.8839109 (50)\ttotal: 2m 54s\tremaining: 11m 34s\n",
      "250:\ttest: 0.7754376\tbest: 0.8839109 (50)\ttotal: 3m 37s\tremaining: 10m 47s\n",
      "300:\ttest: 0.7739456\tbest: 0.8839109 (50)\ttotal: 4m 19s\tremaining: 10m 1s\n",
      "350:\ttest: 0.7595883\tbest: 0.8839109 (50)\ttotal: 5m 1s\tremaining: 9m 17s\n",
      "400:\ttest: 0.7618640\tbest: 0.8839109 (50)\ttotal: 5m 44s\tremaining: 8m 34s\n",
      "450:\ttest: 0.7625989\tbest: 0.8839109 (50)\ttotal: 6m 27s\tremaining: 7m 51s\n",
      "500:\ttest: 0.7510687\tbest: 0.8839109 (50)\ttotal: 7m 10s\tremaining: 7m 8s\n",
      "550:\ttest: 0.7514441\tbest: 0.8839109 (50)\ttotal: 7m 53s\tremaining: 6m 25s\n",
      "600:\ttest: 0.7519228\tbest: 0.8839109 (50)\ttotal: 8m 35s\tremaining: 5m 42s\n",
      "650:\ttest: 0.7519739\tbest: 0.8839109 (50)\ttotal: 9m 16s\tremaining: 4m 58s\n",
      "700:\ttest: 0.7382552\tbest: 0.8839109 (50)\ttotal: 10m\tremaining: 4m 16s\n",
      "750:\ttest: 0.7392148\tbest: 0.8839109 (50)\ttotal: 10m 43s\tremaining: 3m 33s\n",
      "800:\ttest: 0.7353120\tbest: 0.8839109 (50)\ttotal: 11m 25s\tremaining: 2m 50s\n",
      "850:\ttest: 0.7287220\tbest: 0.8839109 (50)\ttotal: 12m 7s\tremaining: 2m 7s\n",
      "900:\ttest: 0.7290304\tbest: 0.8839109 (50)\ttotal: 12m 50s\tremaining: 1m 24s\n",
      "950:\ttest: 0.7234578\tbest: 0.8839109 (50)\ttotal: 13m 33s\tremaining: 41.9s\n",
      "999:\ttest: 0.7234396\tbest: 0.8839109 (50)\ttotal: 14m 14s\tremaining: 0us\n",
      "\n",
      "bestTest = 0.8839108872\n",
      "bestIteration = 50\n",
      "\n",
      "Shrink model to first 51 iterations.\n",
      "0.14\n",
      "0.4176624198781356\n",
      "0.14\n",
      "0.4176624198781356\n",
      "0:\ttest: 0.7575409\tbest: 0.7575409 (0)\ttotal: 829ms\tremaining: 13m 48s\n",
      "50:\ttest: 0.8717302\tbest: 0.8769807 (47)\ttotal: 44.5s\tremaining: 13m 48s\n",
      "100:\ttest: 0.8154167\tbest: 0.8769807 (47)\ttotal: 1m 28s\tremaining: 13m 6s\n",
      "150:\ttest: 0.8067090\tbest: 0.8769807 (47)\ttotal: 2m 11s\tremaining: 12m 17s\n",
      "200:\ttest: 0.7838310\tbest: 0.8769807 (47)\ttotal: 2m 54s\tremaining: 11m 32s\n",
      "250:\ttest: 0.7884779\tbest: 0.8769807 (47)\ttotal: 3m 37s\tremaining: 10m 48s\n",
      "300:\ttest: 0.7901135\tbest: 0.8769807 (47)\ttotal: 4m 19s\tremaining: 10m 3s\n",
      "350:\ttest: 0.7731194\tbest: 0.8769807 (47)\ttotal: 5m 3s\tremaining: 9m 20s\n",
      "400:\ttest: 0.7753566\tbest: 0.8769807 (47)\ttotal: 5m 47s\tremaining: 8m 38s\n",
      "450:\ttest: 0.7769741\tbest: 0.8769807 (47)\ttotal: 6m 29s\tremaining: 7m 54s\n",
      "500:\ttest: 0.7767848\tbest: 0.8769807 (47)\ttotal: 7m 12s\tremaining: 7m 10s\n",
      "550:\ttest: 0.7779800\tbest: 0.8769807 (47)\ttotal: 7m 54s\tremaining: 6m 26s\n",
      "600:\ttest: 0.7781576\tbest: 0.8769807 (47)\ttotal: 8m 37s\tremaining: 5m 43s\n",
      "650:\ttest: 0.7773412\tbest: 0.8769807 (47)\ttotal: 9m 19s\tremaining: 5m\n",
      "700:\ttest: 0.7778835\tbest: 0.8769807 (47)\ttotal: 10m 1s\tremaining: 4m 16s\n",
      "750:\ttest: 0.7785244\tbest: 0.8769807 (47)\ttotal: 10m 42s\tremaining: 3m 32s\n",
      "800:\ttest: 0.7782131\tbest: 0.8769807 (47)\ttotal: 11m 24s\tremaining: 2m 50s\n",
      "850:\ttest: 0.7799258\tbest: 0.8769807 (47)\ttotal: 12m 7s\tremaining: 2m 7s\n",
      "900:\ttest: 0.7800945\tbest: 0.8769807 (47)\ttotal: 12m 49s\tremaining: 1m 24s\n",
      "950:\ttest: 0.7783170\tbest: 0.8769807 (47)\ttotal: 13m 32s\tremaining: 41.8s\n",
      "999:\ttest: 0.7788637\tbest: 0.8769807 (47)\ttotal: 14m 13s\tremaining: 0us\n",
      "\n",
      "bestTest = 0.876980713\n",
      "bestIteration = 47\n",
      "\n",
      "Shrink model to first 48 iterations.\n",
      "0.14\n",
      "0.41131459031897516\n",
      "0.14\n",
      "0.41131459031897516\n",
      "0:\ttest: 0.7954459\tbest: 0.7954459 (0)\ttotal: 857ms\tremaining: 14m 16s\n",
      "50:\ttest: 0.8795376\tbest: 0.8795376 (50)\ttotal: 42.9s\tremaining: 13m 18s\n",
      "100:\ttest: 0.8870176\tbest: 0.8870176 (100)\ttotal: 1m 28s\tremaining: 13m 8s\n",
      "150:\ttest: 0.8890260\tbest: 0.8890260 (150)\ttotal: 2m 11s\tremaining: 12m 21s\n",
      "200:\ttest: 0.8897352\tbest: 0.8897536 (191)\ttotal: 2m 55s\tremaining: 11m 37s\n",
      "250:\ttest: 0.8902664\tbest: 0.8902664 (250)\ttotal: 3m 38s\tremaining: 10m 52s\n",
      "300:\ttest: 0.8904371\tbest: 0.8905031 (296)\ttotal: 4m 21s\tremaining: 10m 6s\n",
      "350:\ttest: 0.8894865\tbest: 0.8905031 (296)\ttotal: 5m 3s\tremaining: 9m 21s\n",
      "400:\ttest: 0.8898778\tbest: 0.8905031 (296)\ttotal: 5m 45s\tremaining: 8m 36s\n",
      "450:\ttest: 0.8896856\tbest: 0.8905031 (296)\ttotal: 6m 29s\tremaining: 7m 54s\n",
      "500:\ttest: 0.8898105\tbest: 0.8905031 (296)\ttotal: 7m 12s\tremaining: 7m 10s\n",
      "550:\ttest: 0.8899790\tbest: 0.8905031 (296)\ttotal: 7m 56s\tremaining: 6m 28s\n",
      "600:\ttest: 0.8887406\tbest: 0.8905031 (296)\ttotal: 8m 39s\tremaining: 5m 45s\n",
      "650:\ttest: 0.8887008\tbest: 0.8905031 (296)\ttotal: 9m 22s\tremaining: 5m 1s\n",
      "700:\ttest: 0.8887213\tbest: 0.8905031 (296)\ttotal: 10m 5s\tremaining: 4m 18s\n",
      "750:\ttest: 0.8854363\tbest: 0.8905031 (296)\ttotal: 10m 48s\tremaining: 3m 34s\n",
      "800:\ttest: 0.8850766\tbest: 0.8905031 (296)\ttotal: 11m 30s\tremaining: 2m 51s\n",
      "850:\ttest: 0.8852971\tbest: 0.8905031 (296)\ttotal: 12m 14s\tremaining: 2m 8s\n",
      "900:\ttest: 0.8854805\tbest: 0.8905031 (296)\ttotal: 12m 58s\tremaining: 1m 25s\n",
      "950:\ttest: 0.8812677\tbest: 0.8905031 (296)\ttotal: 13m 40s\tremaining: 42.3s\n",
      "999:\ttest: 0.8812062\tbest: 0.8905031 (296)\ttotal: 14m 24s\tremaining: 0us\n",
      "\n",
      "bestTest = 0.890503095\n",
      "bestIteration = 296\n",
      "\n",
      "Shrink model to first 297 iterations.\n",
      "0.1\n",
      "0.28666970664234687\n",
      "0.1\n",
      "0.28666970664234687\n"
     ]
    }
   ],
   "source": [
    "## Folds start here\n",
    "all_train = all_data[all_data['ISQUOTED'].notna()]\n",
    "test = all_data[all_data['ISQUOTED'].isna()]\n",
    "test_preds = pd.DataFrame(index=test.index)\n",
    "test_preds['JOBID_PROID'] = test['JOBID'].astype(str) + '-' + test['PROID'].astype(str)\n",
    "test_preds['ISQUOTED'] = 0.0\n",
    "best_thres = 0.0\n",
    "skf = StratifiedKFold(5)\n",
    "for train_index, val_index in skf.split(all_train, all_train['ISQUOTED']):\n",
    "    \n",
    "    train = all_data.iloc[train_index]\n",
    "    #weights = all_weights.iloc[train_index]\n",
    "    val = all_data.iloc[val_index]\n",
    "    \n",
    "    train_pool = Pool(data=train.drop(columns=to_drop_cols), \n",
    "                      #weight=weights[0], \n",
    "                      label=train['ISQUOTED'], cat_features=cat_cols)\n",
    "    val_pool = Pool(data=val.drop(columns=to_drop_cols), label=val['ISQUOTED'], cat_features=cat_cols)\n",
    "    model = CatBoostClassifier(iterations=1000, \n",
    "                              learning_rate=0.07,\n",
    "                              depth=5,\n",
    "                              subsample=0.8,\n",
    "                              min_child_samples=0,\n",
    "                              loss_function='CrossEntropy',\n",
    "                              eval_metric='AUC',\n",
    "                              use_best_model=True, \n",
    "                              has_time=True,\n",
    "                              random_state=42)\n",
    "    model.fit(train_pool,\n",
    "              eval_set=val_pool, \n",
    "              verbose=50,\n",
    "              plot=False)\n",
    "    val_to_pred = val.drop(columns=to_drop_cols)\n",
    "    preds = model.predict_proba(val_to_pred)\n",
    "    best_thres = get_best_threshold(val['ISQUOTED'], preds[:,1])\n",
    "    #for_test = get_last_job(for_test)\n",
    "    test_preds['ISQUOTED'] += (model.predict_proba(test.drop(columns=to_drop_cols))[:,1] > get_best_threshold(val['ISQUOTED'], preds[:,1])).astype(int)"
   ]
  },
  {
   "cell_type": "code",
   "execution_count": 19,
   "id": "f8eb559a",
   "metadata": {
    "execution": {
     "iopub.execute_input": "2022-02-25T23:14:10.525367Z",
     "iopub.status.busy": "2022-02-25T23:14:10.524317Z",
     "iopub.status.idle": "2022-02-25T23:14:10.805523Z",
     "shell.execute_reply": "2022-02-25T23:14:10.804868Z"
    },
    "papermill": {
     "duration": 0.359502,
     "end_time": "2022-02-25T23:14:10.805664",
     "exception": false,
     "start_time": "2022-02-25T23:14:10.446162",
     "status": "completed"
    },
    "tags": []
   },
   "outputs": [],
   "source": [
    "test_preds['ISQUOTED'] = (test_preds['ISQUOTED'] > 2).astype(int)\n",
    "#best_thres /= 5\n",
    "#test_preds['ISQUOTED'] = (test_preds['ISQUOTED'] > best_thres).astype(int)\n",
    "test_preds.to_csv('adv_v87.csv', index=False)"
   ]
  },
  {
   "cell_type": "code",
   "execution_count": null,
   "id": "69adb1d0",
   "metadata": {
    "papermill": {
     "duration": 0.050228,
     "end_time": "2022-02-25T23:14:10.906206",
     "exception": false,
     "start_time": "2022-02-25T23:14:10.855978",
     "status": "completed"
    },
    "tags": []
   },
   "outputs": [],
   "source": []
  }
 ],
 "metadata": {
  "kernelspec": {
   "display_name": "Python 3",
   "language": "python",
   "name": "python3"
  },
  "language_info": {
   "codemirror_mode": {
    "name": "ipython",
    "version": 3
   },
   "file_extension": ".py",
   "mimetype": "text/x-python",
   "name": "python",
   "nbconvert_exporter": "python",
   "pygments_lexer": "ipython3",
   "version": "3.7.12"
  },
  "papermill": {
   "default_parameters": {},
   "duration": 4555.034882,
   "end_time": "2022-02-25T23:14:12.589124",
   "environment_variables": {},
   "exception": null,
   "input_path": "__notebook__.ipynb",
   "output_path": "__notebook__.ipynb",
   "parameters": {},
   "start_time": "2022-02-25T21:58:17.554242",
   "version": "2.3.3"
  }
 },
 "nbformat": 4,
 "nbformat_minor": 5
}
